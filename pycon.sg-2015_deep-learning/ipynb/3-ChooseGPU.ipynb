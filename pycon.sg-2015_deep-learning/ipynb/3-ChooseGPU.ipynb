{
 "cells": [
  {
   "cell_type": "markdown",
   "metadata": {},
   "source": [
    "## GPU Chooser\n",
    "\n",
    "This workbook can help rank GPUs according a mixture of features (with the weights determined by the user) and graph it against price.\n",
    "\n",
    "### Data\n",
    "Firstly, pull in the parameters from Wikipedia\n",
    "([NVidia cards](https://en.wikipedia.org/wiki/List_of_Nvidia_graphics_processing_units), \n",
    "[AMD cards](https://en.wikipedia.org/wiki/List_of_AMD_graphics_processing_units)) \n",
    "for the cards under consideration (more can easily be added, though, to keep the list reasonable, don't add cards with >1000 single precision GFLOPs), each with one example of the product on Amazon (more Amazon examples can be added below) :"
   ]
  },
  {
   "cell_type": "code",
   "execution_count": 22,
   "metadata": {
    "collapsed": false
   },
   "outputs": [],
   "source": [
    "raw=\"\"\"\n",
    "name                 | sh:tx:rop | mem | bw|bus|ocl|single|double|watts| amz:brand:comment\n",
    "GeForce GT740 DDR3 4G| 384:32:16 | 4096| 28|128|1.2|  763 |  0   |  65 | B00KJGYOBQ\n",
    "\n",
    "GeForce GTX 750 1Gb  | 512:32:16 | 1024| 80|128|1.2| 1044 | 32.6 |  55 | B00IDG3NDY\n",
    "GeForce GTX 750 2Gb  | 512:32:16 | 2048| 80|128|1.2| 1044 | 32.6 |  55 | B00J3ZNB04\n",
    "GeForce GTX 750Ti 2Gb| 640:40:16 | 2048| 80|128|1.2| 1306 | 40.8 |  60 | B00IDG3IDO\n",
    "GeForce GTX 750Ti 4Gb| 640:40:16 | 4096| 80|128|1.2| 1306 | 40.8 |  60 | B00T4RJ8FI\n",
    "GeForce GTX 760 2Gb  |1152:96:32 | 2048|192|256|1.2| 2257 | 94   | 170 | B00DT5R3EO\n",
    "GeForce GTX 760 4Gb  |1152:96:32 | 4096|192|256|1.2| 2257 | 94   | 170 | B00E9O28DU\n",
    "\n",
    "GeForce GTX 960 2Gb  |1024:64:32 | 2048|112|128|1.2| 2308 | 72.1 | 120 | B00SC6HAS4\n",
    "GeForce GTX 960 4Gb  |1024:64:32 | 4096|112|128|1.2| 2308 | 72.1 | 120 | B00UOYQ5LA\n",
    "GeForce GTX 970      |1664:104:56| 3584|196|224|1.2| 3494 | 109  | 145 | B00NVODXR4\n",
    "GeForce GTX 980      |2048:128:64| 4096|224|256|1.2| 4612 | 144  | 165 | B00NT9UT3M\n",
    "GeForce GTX 980 Ti   |2816:176:96| 6144|336|384|1.2| 5632 | 176  | 250 | B00YNEIAWY\n",
    "GeForce GTX Titan X  |3072:192:96|12288|336|384|1.2| 6144 | 192  | 250 | B00UXTN5P0\n",
    "\n",
    "HD 5570 1Gb          | 400:20:8  | 1024| 29|128|1.2|  520 |   0  |  39 | B004JU260O\n",
    "R9 280               |1792:112:32| 3072|240|384|1.2| 2964 | 741  | 250 | B00IZXOW80\n",
    "\n",
    "R9 290               |2560:160:64| 4096|320|512|2.0| 4848 | 606  | 275 | B00V4JVY1A\n",
    "R9 290X              |2816:176:64| 4096|320|512|2.0| 5632 | 704  | 290 | B00FLMKQY2\n",
    "\n",
    "R9 380 2Gb           |1792:112:32| 2048|182|256|2.1| 3476 | 217  | 190 | B00ZGL8EBK\n",
    "R9 380 4Gb           |1792:112:32| 4096|182|256|2.1| 3476 | 217  | 190 | B00ZGF3TUC\n",
    "R9 390 8Gb           |2560:160:64| 8192|384|512|2.1| 5120 | 640  | 275 | B00ZGL8CYY\n",
    "R9 390X              |2816:176:64| 8192|384|512|2.1| 5914 | 739  | 275 | B00ZGL8CFI\n",
    "\"\"\"\n",
    "\n",
    "import re\n",
    "arr = [ re.split(r'\\s*[|:]\\s*',l) for l in raw.split('\\n') if len(l)>0]\n",
    "headings = arr[0]\n",
    "cards=[ { h:(e if h in 'name.amz' else float(e)) for h,e in zip(headings,a) } for a in arr[1:] ]\n",
    "pricing={ a['amz']:{k:v for k,v in a.items() if k in 'name:brand:comment:amz'} for a in cards}\n",
    "#for c in cards:print(\"%s|%s\" % (c['name'], c['amz']))"
   ]
  },
  {
   "cell_type": "markdown",
   "metadata": {},
   "source": [
    "Now the GPU card data is in a nice array of dictionary entries, with numeric entries for all but 'name' and the Amazon item ID, indexed in the same order as 'raw'."
   ]
  },
  {
   "cell_type": "markdown",
   "metadata": {},
   "source": [
    "### Equivalent cards for Additional Price data\n",
    "Here, one can put additional Amazon product codes that refer to the same \n",
    "card from a Compute perspective (different manufacturer and/or different ports may make the \n",
    "cards different from a gaming user's perspective, of course).\n",
    "\n",
    "**TODO : Add in more prices, to get a broader sample**"
   ]
  },
  {
   "cell_type": "code",
   "execution_count": 23,
   "metadata": {
    "collapsed": false
   },
   "outputs": [],
   "source": [
    "raw=\"\"\"\n",
    "name                 |amz:brand:comment\n",
    "GeForce GTX 750 1Gb  |\n",
    "GeForce GTX 750 2Gb  |\n",
    "GeForce GTX 750Ti 2Gb|\n",
    "GeForce GTX 750Ti 4Gb|\n",
    "GeForce GTX 760 2Gb  |\n",
    "GeForce GTX 760 4Gb  |\n",
    "GeForce GTX 960 2Gb  |\n",
    "GeForce GTX 960 4Gb  |\n",
    "GeForce GTX 970      |B00OQUMGM0:GigabyteMiniITX\n",
    "GeForce GTX 970      |B00NH5ZNWA:PNY\n",
    "GeForce GTX 980      |\n",
    "GeForce GTX 980 Ti   |B00YDAYOK0:EVGA\n",
    "GeForce GTX Titan X  |\n",
    "R9 290               |\n",
    "R9 290X              |\n",
    "R9 380 2Gb           |\n",
    "R9 380 4Gb           |\n",
    "R9 390 8Gb           |B00ZQ9JKSS:Visiontech\n",
    "R9 390 8Gb           |B00ZQ3QVU4:Asus\n",
    "R9 390 8Gb           |B00ZGF3UAQ:Gigabyte\n",
    "R9 390 8Gb           |B00ZGL8CYY:Sapphire\n",
    "R9 390 8Gb           |B00ZGF0UAE:MSI\n",
    "R9 390X              |B00ZGF3TNO:Gigabyte\n",
    "R9 390X              |B00ZGL8CFI:Sapphire\n",
    "R9 390X              |B00ZGF158A:MSI\n",
    "\"\"\"\n",
    "\n",
    "arr = [ re.split(r'\\s*[|:]\\s*',l) for l in raw.split('\\n') if len(l)>0]\n",
    "headings = arr[0]\n",
    "equivs =[ { h:e for h,e in zip(headings,a) } for a in arr[1:] ]\n",
    "pricing.update({ a['amz']:a for a in equivs if a['amz'] })\n",
    "#pricing"
   ]
  },
  {
   "cell_type": "markdown",
   "metadata": {},
   "source": [
    "### Add known prices from Amazon\n",
    "If you want to regenerate these, execute the block below.  To 'cache' them back into this script, \n",
    "simply copy the generated list back into the following cell"
   ]
  },
  {
   "cell_type": "code",
   "execution_count": 24,
   "metadata": {
    "collapsed": false
   },
   "outputs": [],
   "source": [
    "cache={'B00IDG3IDO': 139.99, 'B00OQUMGM0': 299.99, 'B00T4RJ8FI': 349.99, 'B00ZGL8CYY': 359.42, 'B00NT9UT3M': 507.82, 'B00ZGF0UAE': 369.99, 'B00YNEIAWY': 698.85, 'B00ZGF158A': 429.99, 'B00IZXOW80': 249.99, 'B00FLMKQY2': 339.99, 'B00ZGF3UAQ': 329.99, 'B00ZGL8EBK': 216.53, 'B00IDG3NDY': 114.12, 'B00V4JVY1A': 333.26, 'B00ZGL8CFI': 458.63, 'B00UOYQ5LA': 239.99, 'B00YDAYOK0': 679.99, 'B00UXTN5P0': 1029.99, 'B00ZQ3QVU4': 349.99, 'B00ZQ9JKSS': 368.63, 'B00DT5R3EO': 199.99, 'B00NVODXR4': 337.99, 'B00KJGYOBQ': 99.99, 'B004JU260O': 180.99, 'B00J3ZNB04': 149.37, 'B00ZGF3TUC': 229.99, 'B00SC6HAS4': 199.99, 'B00E9O28DU': 274.99}\n",
    "for k,v in cache.items():\n",
    "    if k in pricing and pricing[k].get('px',None) is None:\n",
    "        pricing[k]['px'] = v\n",
    "#pricing"
   ]
  },
  {
   "cell_type": "markdown",
   "metadata": {},
   "source": [
    "### Grab prices from Amazon\n",
    "Rather than use their API (which creates the issue of putting the keys into GitHub), just grab the pages.  NB: The page caches the prices found into the data structure to avoid doing this too often!\n",
    "\n",
    "The price downloading/parsing requires that you have ``requests`` and ``BeautifulSoup`` installed : ``pip install requests BeautifulSoup4``\n"
   ]
  },
  {
   "cell_type": "code",
   "execution_count": 25,
   "metadata": {
    "collapsed": false
   },
   "outputs": [],
   "source": [
    "import requests\n",
    "from bs4 import BeautifulSoup\n",
    "\n",
    "BASE_URL = \"http://www.amazon.com/exec/obidos/ASIN/\"\n",
    "\n",
    "for k,v in pricing.items():\n",
    "    if v.get('px', None) is None:\n",
    "        name = v.get('name', 'UNKNOWN')\n",
    "        print(\"Fetching price for %s from Amazon.com\" % (name))\n",
    "        r = requests.get(BASE_URL + k)\n",
    "        soup = BeautifulSoup(r.text, 'html.parser')\n",
    "        price = None\n",
    "        try:\n",
    "            ele = soup.find(id=\"priceblock_ourprice\")\n",
    "            price = float(ele.text.replace('$','').replace(',',''))\n",
    "        except AttributeError:\n",
    "            print(\"Didn't find the 'price' element for %s (%s)\" % (name, k))\n",
    "        v['px']=price\n",
    "print(\"Finished downloading prices : Run the 'cache' script below to save the data\")"
   ]
  },
  {
   "cell_type": "markdown",
   "metadata": {},
   "source": [
    "### Code required to 'cache' prices found\n",
    "Exectute the following, and copy its output to the ```pxs=``` line above so that the page \n",
    "can remember the prices found on Amazon most recently."
   ]
  },
  {
   "cell_type": "code",
   "execution_count": 26,
   "metadata": {
    "collapsed": false
   },
   "outputs": [],
   "source": [
    "print({ k:v['px'] for k,v in pricing.items() if v.get('px',None) is not None})"
   ]
  },
  {
   "cell_type": "markdown",
   "metadata": {},
   "source": [
    "### Aggregate Prices (to determine range, and minimum per card)"
   ]
  },
  {
   "cell_type": "code",
   "execution_count": 27,
   "metadata": {
    "collapsed": false
   },
   "outputs": [],
   "source": [
    "for c in cards:\n",
    "    pxs = [ v['px'] for k,v in pricing.items() if v['name']== c['name'] and v.get('px', None) is not None ]\n",
    "    c['px']=min(pxs)\n",
    "    c['px_max']=max(pxs)"
   ]
  },
  {
   "cell_type": "markdown",
   "metadata": {},
   "source": [
    "### Show Known Prices"
   ]
  },
  {
   "cell_type": "code",
   "execution_count": 28,
   "metadata": {
    "collapsed": false
   },
   "outputs": [],
   "source": [
    "for c in cards:\n",
    "    if c.get('px', None) is not None:\n",
    "        print(\"%s| $%7.2f\" % ((c['name']+' '*30)[:24], c['px']))"
   ]
  },
  {
   "cell_type": "markdown",
   "metadata": {},
   "source": [
    "### Score Cards based on given weights\n",
    "\n",
    "The concept here is that one can focus on a 'basecard' (for instance, one you already have, or one you've looked at closely), and then assign multiplicative weights to each of a GPU card's qualities, and come up with a 'relative performance' according to that weighting scheme.  "
   ]
  },
  {
   "cell_type": "code",
   "execution_count": 29,
   "metadata": {
    "collapsed": false
   },
   "outputs": [],
   "source": [
    "basecard = 'GeForce GTX 760 2Gb' # Name should match a card with full data above\n",
    "basedata = [ c for c in cards if c['name']==basecard ][0]  \n",
    "\n",
    "multipliers = dict(single=2., mem=1.)  # FLOPs are twice as important as memory, all else ignored\n",
    "cards_filtered = [c for c in cards if c['ocl']<3. and c['px']<500. ]\n",
    "\n",
    "def evaluate_card(base, d, mult):\n",
    "    comp=0.\n",
    "    for (k,v) in mult.items():\n",
    "        if d.get(k,None) is not None and base.get(k,None) is not None:\n",
    "            comp += v*d[k]/base[k]\n",
    "    return comp\n",
    "x=[ c.get('px',None) for c in cards_filtered ]\n",
    "y=[ evaluate_card(basedata, c, multipliers) for c in cards_filtered ]\n",
    "l=[ c['name'] for c in cards_filtered ]\n",
    "for name,score,px in sorted(zip(l,y,x), key=lambda p: -p[1]):\n",
    "    print(\"%s| $%7.2f | %5.2f\" % ((name+' '*30)[:24], px, score))"
   ]
  },
  {
   "cell_type": "markdown",
   "metadata": {},
   "source": [
    "### Visualize the Results\n",
    "\n",
    "Finally, the card scores can be visualised, against their absolute dollar \n",
    "cost (the 'efficient frontier' being the envelope around the points from the upper left corner)."
   ]
  },
  {
   "cell_type": "code",
   "execution_count": 30,
   "metadata": {
    "collapsed": false
   },
   "outputs": [],
   "source": [
    "%matplotlib inline\n",
    "import matplotlib.pyplot as plt\n",
    "plt.figure(figsize=(15, 8))\n",
    "plt.plot(x,y, 'ro')\n",
    "for i, xy in enumerate(zip(x, y)): \n",
    "    plt.annotate('%s' % (l[i]), xy=xy, xytext=(5,.05), textcoords='offset points')\n",
    "plt.show()"
   ]
  },
  {
   "cell_type": "code",
   "execution_count": null,
   "metadata": {
    "collapsed": true
   },
   "outputs": [],
   "source": []
  }
 ],
 "metadata": {
  "kernelspec": {
   "display_name": "Python 2",
   "language": "python",
   "name": "python2"
  },
  "language_info": {
   "codemirror_mode": {
    "name": "ipython",
    "version": 2
   },
   "file_extension": ".py",
   "mimetype": "text/x-python",
   "name": "python",
   "nbconvert_exporter": "python",
   "pygments_lexer": "ipython2",
   "version": "2.7.10"
  }
 },
 "nbformat": 4,
 "nbformat_minor": 0
}