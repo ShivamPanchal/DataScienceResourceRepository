{
 "cells": [
  {
   "cell_type": "markdown",
   "metadata": {},
   "source": [
    "## Check whether 'Ouput cell' contents is Filtered\n",
    "\n",
    "To test this, simply update and execute the cell below, so that\n",
    "new output is produced.\n",
    "\n",
    "Then ``git commit; git push`` the changes and check whether the \n",
    "contents of the output cells get pushed up to the server : If not, \n",
    "then the filtering is working.\n",
    "\n",
    "NB: The filter doesn't change the notebook file on your disk, only\n",
    "git's reading of it."
   ]
  },
  {
   "cell_type": "code",
   "execution_count": 1,
   "metadata": {
    "collapsed": false
   },
   "outputs": [],
   "source": [
    "#Just a test\n",
    "print \"HelloH\""
   ]
  }
 ],
 "metadata": {
  "git": {
   "suppress_outputs": true
  },
  "kernelspec": {
   "display_name": "Python 2",
   "language": "python",
   "name": "python2"
  },
  "language_info": {
   "codemirror_mode": {
    "name": "ipython",
    "version": 2
   },
   "file_extension": ".py",
   "mimetype": "text/x-python",
   "name": "python",
   "nbconvert_exporter": "python",
   "pygments_lexer": "ipython2",
   "version": "2.7.9"
  }
 },
 "nbformat": 4,
 "nbformat_minor": 0
}