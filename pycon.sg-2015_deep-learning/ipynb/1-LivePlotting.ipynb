{
 "cells": [
  {
   "cell_type": "markdown",
   "metadata": {},
   "source": [
    "# Live Plotting : Theano, Bokeh and iPython/Jupyter\n",
    "\n",
    "http://blocks.readthedocs.org/en/latest/plotting.html"
   ]
  },
  {
   "cell_type": "markdown",
   "metadata": {},
   "source": [
    "Producing nice plots from blocks requires 'blocks-extra', which happens to already be included in the requirements.txt file in this repo : "
   ]
  },
  {
   "cell_type": "code",
   "execution_count": 17,
   "metadata": {
    "collapsed": true
   },
   "outputs": [],
   "source": [
    "# . env/bin/activate\n",
    "# pip install -r requirements.txt "
   ]
  },
  {
   "cell_type": "markdown",
   "metadata": {},
   "source": [
    "And, so that we can do dynamic plotting, start the ``bokeh-server`` on the command line :"
   ]
  },
  {
   "cell_type": "code",
   "execution_count": 18,
   "metadata": {
    "collapsed": true
   },
   "outputs": [],
   "source": [
    "# bokeh-server"
   ]
  },
  {
   "cell_type": "markdown",
   "metadata": {},
   "source": [
    "Test this using this code snippet from : http://bokeh.pydata.org/en/latest/docs/user_guide/embed.html#id3 :"
   ]
  },
  {
   "cell_type": "code",
   "execution_count": 19,
   "metadata": {
    "collapsed": false
   },
   "outputs": [],
   "source": [
    "import numpy as np\n",
    "\n",
    "#from bokeh.embed import notebook_div\n",
    "#div = notebook_div(plot)\n",
    "\n",
    "# Or, using the same page's cryptic hints :\n",
    "from bokeh.io import output_notebook, show\n",
    "from bokeh.plotting import figure\n",
    "\n",
    "output_notebook(hide_banner=False)  # If you don't like banners, set to False"
   ]
  },
  {
   "cell_type": "markdown",
   "metadata": {},
   "source": [
    "Here's a simple, pretty, test from the Bokeh docs ::"
   ]
  },
  {
   "cell_type": "code",
   "execution_count": 20,
   "metadata": {
    "collapsed": false,
    "scrolled": true
   },
   "outputs": [],
   "source": [
    "N=1000\n",
    "x=np.random.random(size=N)*100\n",
    "y=np.random.random(size=N)*100\n",
    "radii=np.random.random(size=N)*5.0\n",
    "c=[ \"#%02x%02x%02x\" % (r,g,150) for r,g in zip(np.floor(50+2*x), np.floor(30+2*y)) ]\n",
    "\n",
    "plot = figure()\n",
    "plot.circle(x,y, radius=radii, fill_color=c, fill_alpha=0.6, line_color=None)\n",
    "\n",
    "show(plot)"
   ]
  },
  {
   "cell_type": "markdown",
   "metadata": {},
   "source": [
    "Now that your plotting server is up and running, start your main loop and pass the Plot extension. Consider this example of fitting the function $f(x)=x^a$ to $f(x)=x^2$."
   ]
  },
  {
   "cell_type": "code",
   "execution_count": 21,
   "metadata": {
    "collapsed": false
   },
   "outputs": [],
   "source": [
    "import theano\n",
    "a = theano.shared(3.)\n",
    "a.name = 'a'\n",
    "x = theano.tensor.scalar('data')\n",
    "cost = abs(x ** 2. - x ** a) * 12.\n",
    "cost.name = 'cost'"
   ]
  },
  {
   "cell_type": "markdown",
   "metadata": {},
   "source": [
    "We train on a 150 random points in [0,1] :"
   ]
  },
  {
   "cell_type": "code",
   "execution_count": 22,
   "metadata": {
    "collapsed": false
   },
   "outputs": [],
   "source": [
    "from fuel.streams import DataStream\n",
    "from fuel.datasets import IterableDataset\n",
    "data_stream = DataStream(IterableDataset(\n",
    "  np.random.rand(150).astype(theano.config.floatX)\n",
    "))\n",
    "np.random.rand(10).astype(theano.config.floatX)"
   ]
  },
  {
   "cell_type": "markdown",
   "metadata": {},
   "source": [
    "Now let\u2019s train with gradient descent and plot the results."
   ]
  },
  {
   "cell_type": "code",
   "execution_count": 23,
   "metadata": {
    "collapsed": false
   },
   "outputs": [],
   "source": [
    "from blocks.main_loop import MainLoop\n",
    "from blocks.algorithms import GradientDescent, Scale\n",
    "from blocks.extensions import FinishAfter\n",
    "from blocks.extensions.monitoring import TrainingDataMonitoring\n",
    "\n",
    "import blocks.extras.extensions.plot\n",
    "reload(blocks.extras.extensions.plot)\n",
    "from blocks.extras.extensions.plot import Plot\n",
    "\n",
    "# Needs 'url' in order to stream (creating a session on the bokeh-server) - and \"default\" is a special case\n",
    "output_notebook(url=\"default\", hide_banner=True)  # If you like banners, the default is False\n",
    "\n",
    "#plotter = Plot('Plotting example', channels=[['cost'], ['a']], after_batch=True)\n",
    "plotter = Plot('Plotting example', channels=[['cost','a']], after_batch=True)\n",
    "\n",
    "main_loop = MainLoop(\n",
    "     model=None, data_stream=data_stream,\n",
    "     algorithm=GradientDescent(cost=cost,\n",
    "                               params=[a],\n",
    "                               step_rule=Scale(learning_rate=0.01)\n",
    "     ),\n",
    "     extensions=[\n",
    "        FinishAfter(after_n_epochs=1),\n",
    "        TrainingDataMonitoring([cost, a], after_batch=True),\n",
    "        #TrainingDataMonitoring([cost], after_batch=True),\n",
    "        plotter,\n",
    "     ])  \n",
    "\n",
    "main_loop.run()"
   ]
  }
 ],
 "metadata": {
  "git": {
   "suppress_outputs": true
  },
  "kernelspec": {
   "display_name": "Python 2",
   "language": "python",
   "name": "python2"
  },
  "language_info": {
   "codemirror_mode": {
    "name": "ipython",
    "version": 2
   },
   "file_extension": ".py",
   "mimetype": "text/x-python",
   "name": "python",
   "nbconvert_exporter": "python",
   "pygments_lexer": "ipython2",
   "version": "2.7.9"
  }
 },
 "nbformat": 4,
 "nbformat_minor": 0
}