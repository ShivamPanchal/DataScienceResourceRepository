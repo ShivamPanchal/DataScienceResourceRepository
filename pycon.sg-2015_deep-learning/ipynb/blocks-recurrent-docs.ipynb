{
 "cells": [
  {
   "cell_type": "markdown",
   "metadata": {},
   "source": [
    "As a starting example, we\u2019ll be building an RNN which accumulates the input it receives (figure above). The equation describing that RNN is $h_t=h_{t\u22121}+x_t$  :: "
   ]
  },
  {
   "cell_type": "code",
   "execution_count": 3,
   "metadata": {
    "collapsed": false
   },
   "outputs": [],
   "source": [
    "import numpy as np\n",
    "\n",
    "import theano\n",
    "from theano import tensor\n",
    "\n",
    "from blocks import initialization\n",
    "from blocks.bricks import Identity\n",
    "from blocks.bricks.recurrent import SimpleRecurrent\n",
    "\n",
    "x = tensor.tensor3('x')\n",
    "\n",
    "rnn = SimpleRecurrent(dim=3, activation=Identity(), weights_init=initialization.Identity())\n",
    "rnn.initialize()\n",
    "h = rnn.apply(x)\n",
    "\n",
    "f = theano.function([x], h)\n",
    "print(f(np.ones((3, 1, 3), dtype=theano.config.floatX))) "
   ]
  },
  {
   "cell_type": "markdown",
   "metadata": {},
   "source": [
    "The equation for the RNN is $h_t=h_{t\u22121} + 2\u22c5x_t$ ::\n"
   ]
  },
  {
   "cell_type": "code",
   "execution_count": 4,
   "metadata": {
    "collapsed": false
   },
   "outputs": [],
   "source": [
    "from blocks.bricks import Linear\n",
    "\n",
    "doubler = Linear(\n",
    "             input_dim=3, output_dim=3, weights_init=initialization.Identity(2),\n",
    "             biases_init=initialization.Constant(0))\n",
    "doubler.initialize()\n",
    "h_doubler = rnn.apply(doubler.apply(x))\n",
    "\n",
    "f = theano.function([x], h_doubler)\n",
    "print(f(np.ones((3, 1, 3), dtype=theano.config.floatX))) "
   ]
  },
  {
   "cell_type": "markdown",
   "metadata": {},
   "source": [
    "Note that in order to double the input we had to apply a bricks.Linear brick to x, even though $h_t=f(Vh_{t\u22121}+Wx_t+b)$ is what is usually thought of as the RNN equation. The reason why recurrent bricks work that way is it allows greater flexibility and modularity: $Wx_t$ can be replaced by a whole neural network if we want."
   ]
  },
  {
   "cell_type": "markdown",
   "metadata": {},
   "source": [
    "## Initial States\n",
    "Recurrent models all have in common that their initial state has to be specified. However, in constructing our toy examples, we omitted to pass h0 when applying the recurrent brick. What happened?\n",
    "\n",
    "It turns out that recurrent bricks set that initial state to zero if it\u2019s not passed as argument, which is a good sane default in most cases, but we can just as well set it explicitly.\n",
    "\n",
    "We will modify the starting example so that it accumulates the input it receives, but starting from one instead of zero (figure above): \n",
    "\n",
    "$h_t=h_{t\u22121}+x_t, h_0=1$"
   ]
  },
  {
   "cell_type": "code",
   "execution_count": 9,
   "metadata": {
    "collapsed": false
   },
   "outputs": [],
   "source": [
    "h0 = tensor.matrix('h0')\n",
    "h = rnn.apply(inputs=x, states=h0)\n",
    "\n",
    "f = theano.function([x, h0], h)\n",
    "print(f(np.ones((3, 1, 3), dtype=theano.config.floatX),\n",
    "        np.ones((1, 3), dtype=theano.config.floatX))) "
   ]
  },
  {
   "cell_type": "markdown",
   "metadata": {},
   "source": [
    "## Iterate (or not)\n",
    "\n",
    "The apply method of a recurrent brick accepts an iterate argument, which defaults to ``True``.  Setting it to ``False`` causes the apply method to compute only one step in the sequence.\n",
    "\n",
    "This is very useful when you\u2019re trying to combine multiple recurrent layers in a network.\n",
    "\n",
    "Imagine you\u2019d like to build a network with two recurrent layers. The second layer accumulates the output of the first layer, while the first layer accumulates the input of the network and the output of the second layer (see figure below)."
   ]
  },
  {
   "cell_type": "code",
   "execution_count": 12,
   "metadata": {
    "collapsed": false
   },
   "outputs": [],
   "source": [
    "ignore=\"\"\"\n",
    "digraph feedback_rnn {\n",
    "node [shape=plaintext,label=\"(1, 1, 1)\"];\n",
    "x_1; x_2; x_3;\n",
    "\n",
    "node [shape=plaintext];\n",
    "h1_0 [label=\"(0, 0, 0)\"]; h1_1 [label=\"(1, 1, 1)\"];\n",
    "h1_2 [label=\"(4, 4, 4)\"]; h1_3 [label=\"(12, 12, 12)\"];\n",
    "h2_0 [label=\"(0, 0, 0)\"]; h2_1 [label=\"(1, 1, 1)\"];\n",
    "h2_2 [label=\"(3, 3, 3)\"]; h2_3 [label=\"(8, 8, 8)\"];\n",
    "\n",
    "node [shape=diamond,regular=1,label=\"+\"];\n",
    "plus_1_1; plus_1_2; plus_1_3; plus_2_1; plus_2_2; plus_2_3;\n",
    "\n",
    "x_1 -> plus_1_1; x_2 -> plus_1_2; x_3 -> plus_1_3;\n",
    "h1_0 -> plus_1_1 -> h1_1 -> plus_1_2 -> h1_2 -> plus_1_3 -> h1_3;\n",
    "h2_0 -> plus_2_1 -> h2_1 -> plus_2_2 -> h2_2 -> plus_2_3 -> h2_3;\n",
    "h2_0 -> plus_1_1; h2_1 -> plus_1_2; h2_2 -> plus_1_3;\n",
    "\n",
    "edge [style=invis];\n",
    "h2_0 -> h1_0; h2_1 -> h1_1; h2_2 -> h1_2; h2_3 -> h1_3;\n",
    "plus_2_1 -> plus_1_1; plus_2_2 -> plus_1_2; plus_2_3 -> plus_1_3;\n",
    "\n",
    "{ rank=source; h2_0, h2_1, h2_2, h2_3, plus_2_1, plus_2_2, plus_2_3 }\n",
    "{ rank=same; h1_0, h1_1, h1_2, h1_3, plus_1_1, plus_1_2, plus_1_3 }\n",
    "{ rank=sink; x_1, x_2, x_3}\n",
    "}\n",
    "\"\"\""
   ]
  },
  {
   "cell_type": "markdown",
   "metadata": {},
   "source": [
    "Here\u2019s how you can create a recurrent brick that encapsulate the two layers:"
   ]
  },
  {
   "cell_type": "code",
   "execution_count": 11,
   "metadata": {
    "collapsed": false
   },
   "outputs": [],
   "source": [
    "from blocks.bricks.recurrent import BaseRecurrent, recurrent\n",
    "class FeedbackRNN(BaseRecurrent):\n",
    "    def __init__(self, dim, **kwargs):\n",
    "        super(FeedbackRNN, self).__init__(**kwargs)\n",
    "        self.dim = dim\n",
    "        self.first_recurrent_layer = SimpleRecurrent(\n",
    "            dim=self.dim, activation=Identity(), name='first_recurrent_layer',\n",
    "            weights_init=initialization.Identity())\n",
    "        self.second_recurrent_layer = SimpleRecurrent(\n",
    "            dim=self.dim, activation=Identity(), name='second_recurrent_layer',\n",
    "            weights_init=initialization.Identity())\n",
    "        self.children = [self.first_recurrent_layer,\n",
    "                         self.second_recurrent_layer]\n",
    "\n",
    "    @recurrent(sequences=['inputs'], contexts=[],\n",
    "               states=['first_states', 'second_states'],\n",
    "               outputs=['first_states', 'second_states'])\n",
    "    def apply(self, inputs, first_states=None, second_states=None):\n",
    "        first_h = self.first_recurrent_layer.apply(\n",
    "            inputs=inputs, states=first_states + second_states, iterate=False)\n",
    "        second_h = self.second_recurrent_layer.apply(\n",
    "            inputs=first_h, states=second_states, iterate=False)\n",
    "        return first_h, second_h\n",
    "\n",
    "    def get_dim(self, name):\n",
    "        return (self.dim if name in ('inputs', 'first_states', 'second_states')\n",
    "                else super(FeedbackRNN, self).get_dim(name))\n",
    "\n",
    "x = tensor.tensor3('x')\n",
    "\n",
    "feedback = FeedbackRNN(dim=3)\n",
    "feedback.initialize()\n",
    "first_h, second_h = feedback.apply(inputs=x)\n",
    "\n",
    "f = theano.function([x], [first_h, second_h])\n",
    "for states in f(np.ones((3, 1, 3), dtype=theano.config.floatX)):\n",
    "    print(states) \n"
   ]
  },
  {
   "cell_type": "markdown",
   "metadata": {},
   "source": [
    "There\u2019s a lot of things going on here!\n",
    "\n",
    "We defined a recurrent brick class called ``FeedbackRNN`` whose constructor initializes two bricks.recurrent.SimpleRecurrent bricks as its children.\n",
    "\n",
    "The class has a ``get_dim method`` whose purpose is to tell the dimensionality of each input to the brick\u2019s ``apply`` method.\n",
    "\n",
    "The core of the class resides in its ``apply`` method. The ``@recurrent`` decorator is used to specify which of the arguments to the method are sequences to iterate over, what is returned when the method is called and which of those returned values correspond to recurrent states. Its relationship with the inputs and outputs arguments to the ``@application`` decorator is as follows:\n",
    "\n",
    "*  ``outputs``, like in ``@application``, defines everything that\u2019s returned by ``apply``, including recurrent outputs \n",
    "*  ``states`` is a subset of ``outputs`` that corresponds to recurrent outputs, which means that the union of sequences and states forms what would be inputs in ``@application``\n",
    "\n",
    "Notice how no call to ``theano.scan()`` is being made.  This is because the implementation of ``apply`` is responsible for computing one time step of the recurrent application of the brick.  It takes states at time $t\u22121$ and inputs at time $t$ and produces the output for time $t$. The rest is all handled by the ``@recurrent`` decorator behind the scenes.\n",
    "\n",
    "This is why the iterate argument of the ``apply`` method is so useful: it allows to combine multiple recurrent brick applications within another ``apply`` implementation.\n",
    "\n",
    "### Tip\n",
    "\n",
    "When looking at a recurrent brick\u2019s documentation, keep in mind that the parameters to its apply method are explained in terms of a single iteration, i.e. with the assumption that ``iterate = False``.\n"
   ]
  }
 ],
 "metadata": {
  "kernelspec": {
   "display_name": "Python 2",
   "language": "python",
   "name": "python2"
  },
  "language_info": {
   "codemirror_mode": {
    "name": "ipython",
    "version": 2
   },
   "file_extension": ".py",
   "mimetype": "text/x-python",
   "name": "python",
   "nbconvert_exporter": "python",
   "pygments_lexer": "ipython2",
   "version": "2.7.9"
  }
 },
 "nbformat": 4,
 "nbformat_minor": 0
}