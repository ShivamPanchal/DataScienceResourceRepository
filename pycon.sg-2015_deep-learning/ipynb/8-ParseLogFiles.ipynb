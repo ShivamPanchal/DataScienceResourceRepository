{
 "cells": [
  {
   "cell_type": "markdown",
   "metadata": {},
   "source": [
    "Define the basic path to the directory with the log files in it (check that the right files are listed) :"
   ]
  },
  {
   "cell_type": "code",
   "execution_count": 130,
   "metadata": {
    "collapsed": false
   },
   "outputs": [],
   "source": [
    "path = '../../../SEER/services/deepner/server'\n",
    "import os\n",
    "r = [ f for f in os.listdir(path) if f.endswith('.log') ]\n",
    "r"
   ]
  },
  {
   "cell_type": "code",
   "execution_count": 131,
   "metadata": {
    "collapsed": false
   },
   "outputs": [],
   "source": [
    "import re\n",
    "pattern = re.compile(\"\\s+(\\S+)\\:\\s+(\\S+)\")\n",
    "\n",
    "def parse_log(filename):\n",
    "    with open(filename, 'r') as f:\n",
    "        d=dict()\n",
    "        for l in f.readlines():\n",
    "            if '--------------------------------------------' in l:\n",
    "                if len(d)>0:\n",
    "                    yield d \n",
    "                d=dict() # Empty out the data\n",
    "            else:\n",
    "                m = pattern.search(l)\n",
    "                if m:\n",
    "                    d[m.group(1)] = m.group(2)\n",
    "        yield d\n",
    "\n",
    "data = parse_log(os.path.join(path, 'train.10epochs-8.cpu.log'))\n"
   ]
  },
  {
   "cell_type": "code",
   "execution_count": 153,
   "metadata": {
    "collapsed": false
   },
   "outputs": [],
   "source": [
    "next(data)"
   ]
  },
  {
   "cell_type": "code",
   "execution_count": 161,
   "metadata": {
    "collapsed": false
   },
   "outputs": [],
   "source": [
    "def training_points(filename, batch_size):\n",
    "    data = parse_log(os.path.join(path, filename))\n",
    "    pts=[]\n",
    "    for d in data:\n",
    "        if 'crossentropy_categorical_1hot_masked' in d  and 'iterations_done' in d:\n",
    "            pts.append( ( \n",
    "                int(d['iterations_done'])*batch_size, \n",
    "                float(d['crossentropy_categorical_1hot_masked'])\n",
    "            ) )\n",
    "    return pts"
   ]
  },
  {
   "cell_type": "code",
   "execution_count": 180,
   "metadata": {
    "collapsed": false
   },
   "outputs": [],
   "source": [
    "#pts = training_points('train.10epochs-8.cpu.log', 8)\n",
    "#pts = training_points('train.1000epochs-256.gpu.log', 256)\n",
    "pts = training_points('train.1000epochs-256-adadelta.gpu.log', 256)\n",
    "#pts"
   ]
  },
  {
   "cell_type": "code",
   "execution_count": 181,
   "metadata": {
    "collapsed": false
   },
   "outputs": [],
   "source": [
    "import numpy as np\n",
    "\n",
    "#from bokeh.embed import notebook_div\n",
    "#div = notebook_div(plot)\n",
    "\n",
    "# Or, using the same page's cryptic hints :\n",
    "from bokeh.io import output_notebook, show\n",
    "from bokeh.plotting import figure\n",
    "\n",
    "output_notebook(hide_banner=False)  # If you don't like banners, set to False"
   ]
  },
  {
   "cell_type": "code",
   "execution_count": 182,
   "metadata": {
    "collapsed": false
   },
   "outputs": [],
   "source": [
    "#N=1000\n",
    "#x=np.random.random(size=N)*100\n",
    "#y=np.random.random(size=N)*100\n",
    "#radii=np.random.random(size=N)*5.0\n",
    "#c=[ \"#%02x%02x%02x\" % (r,g,150) for r,g in zip(np.floor(50+2*x), np.floor(30+2*y)) ]\n",
    "\n",
    "plot = figure(title=\"Training Error\", plot_height=500, \n",
    "              x_axis_label=\"Sentence Count\", y_axis_label=\"CrossEntropyError\")\n",
    "#plot.circle(x,y, radius=1, fill_color=c, fill_alpha=0.6, line_color=None)\n",
    "plot.line([p[0]/1000./1000. for p in pts], [np.log(p[1]) for p in pts] )\n",
    "\n",
    "show(plot)"
   ]
  },
  {
   "cell_type": "code",
   "execution_count": null,
   "metadata": {
    "collapsed": true
   },
   "outputs": [],
   "source": []
  }
 ],
 "metadata": {
  "kernelspec": {
   "display_name": "Python 2",
   "language": "python",
   "name": "python2"
  },
  "language_info": {
   "codemirror_mode": {
    "name": "ipython",
    "version": 2
   },
   "file_extension": ".py",
   "mimetype": "text/x-python",
   "name": "python",
   "nbconvert_exporter": "python",
   "pygments_lexer": "ipython2",
   "version": "2.7.10"
  }
 },
 "nbformat": 4,
 "nbformat_minor": 0
}