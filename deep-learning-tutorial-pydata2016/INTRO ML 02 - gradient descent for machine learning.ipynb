{
 "cells": [
  {
   "cell_type": "markdown",
   "metadata": {},
   "source": [
    "# Gradient descent for machine learning - a quick introduction\n",
    "\n",
    "In this notebook we are going to use gradient descent to estimate the parameters of a model. In this case we are going to compute the parameters to convert temperatures fom Farenheit to Kelvin.\n",
    "\n",
    "Given that we are approaching this from a machine learning perspective, we are going to determine our scaling factor and offset value by gradient descent, given some example temperatures on both scales. In other words, we are going to *learn* the parameters from the data.\n",
    "\n",
    "First, some imports:"
   ]
  },
  {
   "cell_type": "code",
   "execution_count": 1,
   "metadata": {
    "collapsed": true
   },
   "outputs": [],
   "source": [
    "import numpy as np\n",
    "import pandas as pd"
   ]
  },
  {
   "cell_type": "markdown",
   "metadata": {},
   "source": [
    "Our data set:"
   ]
  },
  {
   "cell_type": "code",
   "execution_count": 2,
   "metadata": {
    "collapsed": true
   },
   "outputs": [],
   "source": [
    "INDEX = ['Boiling point of He',\n",
    "         'Boiling point of N',\n",
    "         'Melting point of H2O',\n",
    "         'Body temperature',\n",
    "         'Boiling point of H2O']\n",
    "\n",
    "X = np.array([-452.1, -320.4, 32.0, 98.6, 212.0])\n",
    "Y = np.array([4.22, 77.36, 273.2, 310.5, 373.2])"
   ]
  },
  {
   "cell_type": "markdown",
   "metadata": {},
   "source": [
    "Show our data set in a table:"
   ]
  },
  {
   "cell_type": "code",
   "execution_count": 3,
   "metadata": {
    "collapsed": false
   },
   "outputs": [
    {
     "data": {
      "text/html": [
       "<div>\n",
       "<table border=\"1\" class=\"dataframe\">\n",
       "  <thead>\n",
       "    <tr style=\"text-align: right;\">\n",
       "      <th></th>\n",
       "      <th>Fahrenheit ($x$)</th>\n",
       "      <th>Kelvin ($y$)</th>\n",
       "    </tr>\n",
       "  </thead>\n",
       "  <tbody>\n",
       "    <tr>\n",
       "      <th>Boiling point of He</th>\n",
       "      <td>-452.1</td>\n",
       "      <td>4.22</td>\n",
       "    </tr>\n",
       "    <tr>\n",
       "      <th>Boiling point of N</th>\n",
       "      <td>-320.4</td>\n",
       "      <td>77.36</td>\n",
       "    </tr>\n",
       "    <tr>\n",
       "      <th>Melting point of H2O</th>\n",
       "      <td>32.0</td>\n",
       "      <td>273.20</td>\n",
       "    </tr>\n",
       "    <tr>\n",
       "      <th>Body temperature</th>\n",
       "      <td>98.6</td>\n",
       "      <td>310.50</td>\n",
       "    </tr>\n",
       "    <tr>\n",
       "      <th>Boiling point of H2O</th>\n",
       "      <td>212.0</td>\n",
       "      <td>373.20</td>\n",
       "    </tr>\n",
       "  </tbody>\n",
       "</table>\n",
       "</div>"
      ],
      "text/plain": [
       "                      Fahrenheit ($x$)  Kelvin ($y$)\n",
       "Boiling point of He             -452.1          4.22\n",
       "Boiling point of N              -320.4         77.36\n",
       "Melting point of H2O              32.0        273.20\n",
       "Body temperature                  98.6        310.50\n",
       "Boiling point of H2O             212.0        373.20"
      ]
     },
     "execution_count": 3,
     "metadata": {},
     "output_type": "execute_result"
    }
   ],
   "source": [
    "pd.DataFrame(np.stack([X, Y]).T, index=INDEX,\n",
    "             columns=['Fahrenheit ($x$)', 'Kelvin ($y$)'])"
   ]
  },
  {
   "cell_type": "markdown",
   "metadata": {},
   "source": [
    "## Model - linear regression\n",
    "\n",
    "Temperatures can be converted using a linear model of the form $y=ax+b$.\n",
    "\n",
    "$x$ and $y$ are samples in our dataset; $X=\\{x_0...X_N\\}$ and $Y=\\{y_0...Y_N\\}$ while $a$ and $b$ are the model parameters.\n",
    "\n",
    "### Initialise model\n",
    "\n",
    "Lets try initialising the parameters $a$ randomly and $b$ to 0 and see what it predicts:"
   ]
  },
  {
   "cell_type": "code",
   "execution_count": 4,
   "metadata": {
    "collapsed": false
   },
   "outputs": [
    {
     "name": "stdout",
     "output_type": "stream",
     "text": [
      "a=1.58879502645, b=0.0\n"
     ]
    },
    {
     "data": {
      "text/html": [
       "<div>\n",
       "<table border=\"1\" class=\"dataframe\">\n",
       "  <thead>\n",
       "    <tr style=\"text-align: right;\">\n",
       "      <th></th>\n",
       "      <th>Fahrenheit ($x$)</th>\n",
       "      <th>Kelvin ($y$)</th>\n",
       "      <th>$y_{pred}$</th>\n",
       "    </tr>\n",
       "  </thead>\n",
       "  <tbody>\n",
       "    <tr>\n",
       "      <th>Boiling point of He</th>\n",
       "      <td>-452.1</td>\n",
       "      <td>4.22</td>\n",
       "      <td>-718.294231</td>\n",
       "    </tr>\n",
       "    <tr>\n",
       "      <th>Boiling point of N</th>\n",
       "      <td>-320.4</td>\n",
       "      <td>77.36</td>\n",
       "      <td>-509.049926</td>\n",
       "    </tr>\n",
       "    <tr>\n",
       "      <th>Melting point of H2O</th>\n",
       "      <td>32.0</td>\n",
       "      <td>273.20</td>\n",
       "      <td>50.841441</td>\n",
       "    </tr>\n",
       "    <tr>\n",
       "      <th>Body temperature</th>\n",
       "      <td>98.6</td>\n",
       "      <td>310.50</td>\n",
       "      <td>156.655190</td>\n",
       "    </tr>\n",
       "    <tr>\n",
       "      <th>Boiling point of H2O</th>\n",
       "      <td>212.0</td>\n",
       "      <td>373.20</td>\n",
       "      <td>336.824546</td>\n",
       "    </tr>\n",
       "  </tbody>\n",
       "</table>\n",
       "</div>"
      ],
      "text/plain": [
       "                      Fahrenheit ($x$)  Kelvin ($y$)  $y_{pred}$\n",
       "Boiling point of He             -452.1          4.22 -718.294231\n",
       "Boiling point of N              -320.4         77.36 -509.049926\n",
       "Melting point of H2O              32.0        273.20   50.841441\n",
       "Body temperature                  98.6        310.50  156.655190\n",
       "Boiling point of H2O             212.0        373.20  336.824546"
      ]
     },
     "execution_count": 4,
     "metadata": {},
     "output_type": "execute_result"
    }
   ],
   "source": [
    "# Lets initialise `a` to between 1.0 and 2.0; it is therefore impossible\n",
    "# for it to choose a (nearly) correct value at the start, forcing our model to do some work.\n",
    "a = np.random.uniform(1.0, 2.0, size=())\n",
    "b = 0.0\n",
    "\n",
    "print('a={}, b={}'.format(a, b))\n",
    "\n",
    "Y_pred = X * a + b\n",
    "pd.DataFrame(np.stack([X, Y, Y_pred]).T, index=INDEX,\n",
    "             columns=['Fahrenheit ($x$)', 'Kelvin ($y$)', '$y_{pred}$'])"
   ]
  },
  {
   "cell_type": "markdown",
   "metadata": {},
   "source": [
    "### How good is our guess?\n",
    "\n",
    "To estimate the accuracy of our model, lets compute the squared error. We use the squared error since its value will always be positive and larger errors will have a greater cost due to being squared:"
   ]
  },
  {
   "cell_type": "code",
   "execution_count": 5,
   "metadata": {
    "collapsed": false
   },
   "outputs": [
    {
     "data": {
      "text/html": [
       "<div>\n",
       "<table border=\"1\" class=\"dataframe\">\n",
       "  <thead>\n",
       "    <tr style=\"text-align: right;\">\n",
       "      <th></th>\n",
       "      <th>Fahrenheit ($x$)</th>\n",
       "      <th>Kelvin ($y$)</th>\n",
       "      <th>$y_{pred}$</th>\n",
       "      <th>squared err ($\\epsilon$)</th>\n",
       "    </tr>\n",
       "  </thead>\n",
       "  <tbody>\n",
       "    <tr>\n",
       "      <th>Boiling point of He</th>\n",
       "      <td>-452.1</td>\n",
       "      <td>4.22</td>\n",
       "      <td>-718.294231</td>\n",
       "      <td>522026.814658</td>\n",
       "    </tr>\n",
       "    <tr>\n",
       "      <th>Boiling point of N</th>\n",
       "      <td>-320.4</td>\n",
       "      <td>77.36</td>\n",
       "      <td>-509.049926</td>\n",
       "      <td>343876.601867</td>\n",
       "    </tr>\n",
       "    <tr>\n",
       "      <th>Melting point of H2O</th>\n",
       "      <td>32.0</td>\n",
       "      <td>273.20</td>\n",
       "      <td>50.841441</td>\n",
       "      <td>49443.328829</td>\n",
       "    </tr>\n",
       "    <tr>\n",
       "      <th>Body temperature</th>\n",
       "      <td>98.6</td>\n",
       "      <td>310.50</td>\n",
       "      <td>156.655190</td>\n",
       "      <td>23668.225685</td>\n",
       "    </tr>\n",
       "    <tr>\n",
       "      <th>Boiling point of H2O</th>\n",
       "      <td>212.0</td>\n",
       "      <td>373.20</td>\n",
       "      <td>336.824546</td>\n",
       "      <td>1323.173682</td>\n",
       "    </tr>\n",
       "  </tbody>\n",
       "</table>\n",
       "</div>"
      ],
      "text/plain": [
       "                      Fahrenheit ($x$)  Kelvin ($y$)  $y_{pred}$  \\\n",
       "Boiling point of He             -452.1          4.22 -718.294231   \n",
       "Boiling point of N              -320.4         77.36 -509.049926   \n",
       "Melting point of H2O              32.0        273.20   50.841441   \n",
       "Body temperature                  98.6        310.50  156.655190   \n",
       "Boiling point of H2O             212.0        373.20  336.824546   \n",
       "\n",
       "                      squared err ($\\epsilon$)  \n",
       "Boiling point of He              522026.814658  \n",
       "Boiling point of N               343876.601867  \n",
       "Melting point of H2O              49443.328829  \n",
       "Body temperature                  23668.225685  \n",
       "Boiling point of H2O               1323.173682  "
      ]
     },
     "execution_count": 5,
     "metadata": {},
     "output_type": "execute_result"
    }
   ],
   "source": [
    "sqr_err = (Y_pred - Y)**2\n",
    "\n",
    "pd.DataFrame(np.stack([X, Y, Y_pred, sqr_err]).T, index=INDEX,\n",
    "             columns=['Fahrenheit ($x$)', 'Kelvin ($y$)', '$y_{pred}$', 'squared err ($\\epsilon$)'])"
   ]
  },
  {
   "cell_type": "markdown",
   "metadata": {},
   "source": [
    "#### Reducing the error\n",
    "\n",
    "We reduce the error by taking the gradient of the squared error with respect to the parameters $a$ and $b$ and iteratively modifying the values of $a$ and $b$ in the direction of the negated gradient.\n",
    "\n",
    "Lets determine the expressions for the gradient of the squared error $\\epsilon$ with respect to $a$ and $b$:\n",
    "\n",
    "$\\epsilon_i = (ax_i + b - y_i)^2 = a^2x_i^2 + 2abx_i - 2ax_iy_i + b^2 + y_i^2 - 2by_i$\n",
    "\n",
    "\n",
    "In terms of $a$: $\\epsilon_i = a^2x_i^2 + a(2bx_i - 2x_iy_i) + b^2 + y_i^2 - 2by_i$\n",
    "\n",
    "So ${d\\epsilon_i\\over{da}} = 2ax_i^2 + 2bx_i - 2x_iy_i$\n",
    "\n",
    "\n",
    "In terms of $b$: $\\epsilon = b^2 + b(2ax_i - 2y_i) + a^2x_i^2- 2ax_iy_i - 2by_i$\n",
    "\n",
    "So ${d\\epsilon_i\\over{db}} = 2b + 2ax_i - 2y_i$\n",
    "\n",
    "\n",
    "The above expressions apply to single samples only. To apply them to all of our 5 data points, we need to use the mean squared error. The mean squared error is the sum of the individual errors divided by the number of data points $N$. The derivative of the mean squared error w.r.t. $a$ and $b$ will also be the sum of the individual derivatives, divided by $N$.\n",
    "\n",
    "#### Gradient descent\n",
    "\n",
    "Gradient descent is performed iteratively; each parameter is modified independently as so:\n",
    "\n",
    "$a' = a - \\gamma {d\\epsilon_i\\over{da}}$\n",
    "\n",
    "$b' = b - \\gamma {d\\epsilon_i\\over{db}}$\n",
    "\n",
    "where $\\gamma$ is the learning rate.\n",
    "\n",
    "#### Implementation\n",
    "\n",
    "We now have all we need to define some gradient descent helper functions:"
   ]
  },
  {
   "cell_type": "code",
   "execution_count": 6,
   "metadata": {
    "collapsed": true
   },
   "outputs": [],
   "source": [
    "def iterative_gradient_descent_step(a, b, lr):\n",
    "    \"\"\"\n",
    "    A single gradient descent iteration\n",
    "    \n",
    "    :param a: current value of `a`\n",
    "    :param b: current value of `b`\n",
    "    :param lr: learning rate\n",
    "    \n",
    "    :return: a tuple `(a_next, b_next)` that are the values of `a` and `b` after the iteration.\n",
    "    \"\"\"\n",
    "    # Derivative of a and b w.r.t. epsilon:\n",
    "    da_depsilon = (2 * a * X**2 + 2 * b * X - 2 * X * Y).mean()\n",
    "    db_depsilon = (2 * b + 2 * a * X - 2 * Y).mean()\n",
    "    \n",
    "    # Gradient descent:\n",
    "    a = a - da_depsilon * lr\n",
    "    b = b - db_depsilon * lr\n",
    "    \n",
    "    # Return new values\n",
    "    return a, b\n",
    "\n",
    "\n",
    "def state_as_table(a, b):\n",
    "    \"\"\"\n",
    "    Helper function to generate a Pandas DataFrame showing the current state, including predicted values and errors\n",
    "    \n",
    "    :param a: current value of `a`\n",
    "    :param b: current value of `b`\n",
    "    \n",
    "    :return: tuple `(df, mean_sqr_err)` where `df` is the Pandas DataFrame and `sqr_err` is the mean squared error\n",
    "    \"\"\"\n",
    "    Y_pred = X * a + b\n",
    "    sqr_err = (Y_pred - Y)**2\n",
    "\n",
    "    df = pd.DataFrame(np.stack([X, Y, Y_pred, sqr_err]).T, index=INDEX,\n",
    "                      columns=['Fahrenheit ($x$)', 'Kelvin ($y$)', '$y_{pred}$', 'squared err ($\\epsilon$)'])    \n",
    "    return df, sqr_err.mean()"
   ]
  },
  {
   "cell_type": "markdown",
   "metadata": {},
   "source": [
    "Define learning rate and show initial state:"
   ]
  },
  {
   "cell_type": "code",
   "execution_count": 7,
   "metadata": {
    "collapsed": false
   },
   "outputs": [
    {
     "name": "stdout",
     "output_type": "stream",
     "text": [
      "a = 1.58879502645, b = 0.0, mean sqr. err. = 188067.628944\n"
     ]
    },
    {
     "data": {
      "text/html": [
       "<div>\n",
       "<table border=\"1\" class=\"dataframe\">\n",
       "  <thead>\n",
       "    <tr style=\"text-align: right;\">\n",
       "      <th></th>\n",
       "      <th>Fahrenheit ($x$)</th>\n",
       "      <th>Kelvin ($y$)</th>\n",
       "      <th>$y_{pred}$</th>\n",
       "      <th>squared err ($\\epsilon$)</th>\n",
       "    </tr>\n",
       "  </thead>\n",
       "  <tbody>\n",
       "    <tr>\n",
       "      <th>Boiling point of He</th>\n",
       "      <td>-452.1</td>\n",
       "      <td>4.22</td>\n",
       "      <td>-718.294231</td>\n",
       "      <td>522026.814658</td>\n",
       "    </tr>\n",
       "    <tr>\n",
       "      <th>Boiling point of N</th>\n",
       "      <td>-320.4</td>\n",
       "      <td>77.36</td>\n",
       "      <td>-509.049926</td>\n",
       "      <td>343876.601867</td>\n",
       "    </tr>\n",
       "    <tr>\n",
       "      <th>Melting point of H2O</th>\n",
       "      <td>32.0</td>\n",
       "      <td>273.20</td>\n",
       "      <td>50.841441</td>\n",
       "      <td>49443.328829</td>\n",
       "    </tr>\n",
       "    <tr>\n",
       "      <th>Body temperature</th>\n",
       "      <td>98.6</td>\n",
       "      <td>310.50</td>\n",
       "      <td>156.655190</td>\n",
       "      <td>23668.225685</td>\n",
       "    </tr>\n",
       "    <tr>\n",
       "      <th>Boiling point of H2O</th>\n",
       "      <td>212.0</td>\n",
       "      <td>373.20</td>\n",
       "      <td>336.824546</td>\n",
       "      <td>1323.173682</td>\n",
       "    </tr>\n",
       "  </tbody>\n",
       "</table>\n",
       "</div>"
      ],
      "text/plain": [
       "                      Fahrenheit ($x$)  Kelvin ($y$)  $y_{pred}$  \\\n",
       "Boiling point of He             -452.1          4.22 -718.294231   \n",
       "Boiling point of N              -320.4         77.36 -509.049926   \n",
       "Melting point of H2O              32.0        273.20   50.841441   \n",
       "Body temperature                  98.6        310.50  156.655190   \n",
       "Boiling point of H2O             212.0        373.20  336.824546   \n",
       "\n",
       "                      squared err ($\\epsilon$)  \n",
       "Boiling point of He              522026.814658  \n",
       "Boiling point of N               343876.601867  \n",
       "Melting point of H2O              49443.328829  \n",
       "Body temperature                  23668.225685  \n",
       "Boiling point of H2O               1323.173682  "
      ]
     },
     "execution_count": 7,
     "metadata": {},
     "output_type": "execute_result"
    }
   ],
   "source": [
    "LEARNING_RATE = 0.00001\n",
    "N_ITERATIONS = 50000\n",
    "\n",
    "df, mean_sqr_err = state_as_table(a, b)\n",
    "print('a = {}, b = {}, mean sqr. err. = {}'.format(a, b, mean_sqr_err))\n",
    "df"
   ]
  },
  {
   "cell_type": "markdown",
   "metadata": {},
   "source": [
    "#### Gradient descent\n",
    "\n",
    "Run this cell repeatedly to see gradient descent in action:"
   ]
  },
  {
   "cell_type": "code",
   "execution_count": 31,
   "metadata": {
    "collapsed": false
   },
   "outputs": [
    {
     "name": "stdout",
     "output_type": "stream",
     "text": [
      "a = 0.555810262011, b = 255.484566228, mean sqr. err. = 0.0131644123508\n"
     ]
    },
    {
     "data": {
      "text/html": [
       "<div>\n",
       "<table border=\"1\" class=\"dataframe\">\n",
       "  <thead>\n",
       "    <tr style=\"text-align: right;\">\n",
       "      <th></th>\n",
       "      <th>Fahrenheit ($x$)</th>\n",
       "      <th>Kelvin ($y$)</th>\n",
       "      <th>$y_{pred}$</th>\n",
       "      <th>squared err ($\\epsilon$)</th>\n",
       "    </tr>\n",
       "  </thead>\n",
       "  <tbody>\n",
       "    <tr>\n",
       "      <th>Boiling point of He</th>\n",
       "      <td>-452.1</td>\n",
       "      <td>4.22</td>\n",
       "      <td>4.202747</td>\n",
       "      <td>0.000298</td>\n",
       "    </tr>\n",
       "    <tr>\n",
       "      <th>Boiling point of N</th>\n",
       "      <td>-320.4</td>\n",
       "      <td>77.36</td>\n",
       "      <td>77.402958</td>\n",
       "      <td>0.001845</td>\n",
       "    </tr>\n",
       "    <tr>\n",
       "      <th>Melting point of H2O</th>\n",
       "      <td>32.0</td>\n",
       "      <td>273.20</td>\n",
       "      <td>273.270495</td>\n",
       "      <td>0.004969</td>\n",
       "    </tr>\n",
       "    <tr>\n",
       "      <th>Body temperature</th>\n",
       "      <td>98.6</td>\n",
       "      <td>310.50</td>\n",
       "      <td>310.287458</td>\n",
       "      <td>0.045174</td>\n",
       "    </tr>\n",
       "    <tr>\n",
       "      <th>Boiling point of H2O</th>\n",
       "      <td>212.0</td>\n",
       "      <td>373.20</td>\n",
       "      <td>373.316342</td>\n",
       "      <td>0.013535</td>\n",
       "    </tr>\n",
       "  </tbody>\n",
       "</table>\n",
       "</div>"
      ],
      "text/plain": [
       "                      Fahrenheit ($x$)  Kelvin ($y$)  $y_{pred}$  \\\n",
       "Boiling point of He             -452.1          4.22    4.202747   \n",
       "Boiling point of N              -320.4         77.36   77.402958   \n",
       "Melting point of H2O              32.0        273.20  273.270495   \n",
       "Body temperature                  98.6        310.50  310.287458   \n",
       "Boiling point of H2O             212.0        373.20  373.316342   \n",
       "\n",
       "                      squared err ($\\epsilon$)  \n",
       "Boiling point of He                   0.000298  \n",
       "Boiling point of N                    0.001845  \n",
       "Melting point of H2O                  0.004969  \n",
       "Body temperature                      0.045174  \n",
       "Boiling point of H2O                  0.013535  "
      ]
     },
     "execution_count": 31,
     "metadata": {},
     "output_type": "execute_result"
    }
   ],
   "source": [
    "for i in xrange(N_ITERATIONS):\n",
    "    a, b = iterative_gradient_descent_step(a, b, LEARNING_RATE)\n",
    "\n",
    "df, mean_sqr_err = state_as_table(a, b)\n",
    "print('a = {}, b = {}, mean sqr. err. = {}'.format(a, b, mean_sqr_err))\n",
    "df"
   ]
  },
  {
   "cell_type": "markdown",
   "metadata": {},
   "source": [
    "## Evaluation\n",
    "\n",
    "The formula for conversion from Farenheit to Kelvin is:\n",
    "\n",
    "$T_K = {5\\over9}T_F + 255.372$\n",
    "\n",
    "Therefore:\n",
    "\n",
    "$a = 0.556$\n",
    "\n",
    "$b = 255.372$\n",
    "\n",
    "\n",
    "If the above cell was run enough times, $a$ and $b$ should have reached values that are close to the above ideal values (some error is expected as the input data has some small rounding errors)."
   ]
  },
  {
   "cell_type": "markdown",
   "metadata": {},
   "source": [
    "## Conclusions\n",
    "\n",
    "There are some problems with the model above; namely that a very low learning rate and huge number of iterations were required. This is because using a larger learning rate causes the parameters to take huge steps in one direction or another, often causing them to oscillate between negative and positive values with rapidly increasing magnitudes, after which the model 'explodes'.\n",
    "\n",
    "This would be addressed by standardising the data in `X` and `Y` by subtracting the mean and dividing by the standard deviation. This would allow a much higher learning rate and smaller number of iterations to suffice.\n",
    "\n",
    "That said, this notebook demonstrates the use of gradient descent to train a simple linear regression model; I hope you have found it helpful."
   ]
  }
 ],
 "metadata": {
  "kernelspec": {
   "display_name": "Python 2",
   "language": "python",
   "name": "python2"
  },
  "language_info": {
   "codemirror_mode": {
    "name": "ipython",
    "version": 2
   },
   "file_extension": ".py",
   "mimetype": "text/x-python",
   "name": "python",
   "nbconvert_exporter": "python",
   "pygments_lexer": "ipython2",
   "version": "2.7.12"
  }
 },
 "nbformat": 4,
 "nbformat_minor": 1
}
